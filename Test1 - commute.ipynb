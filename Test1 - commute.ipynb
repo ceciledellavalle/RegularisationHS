{
 "cells": [
  {
   "cell_type": "code",
   "execution_count": 3,
   "metadata": {},
   "outputs": [],
   "source": [
    "import numpy as np\n",
    "import math\n",
    "import matplotlib.pyplot as plt\n",
    "from scipy.linalg import inv,pinvh,eig,eigh\n",
    "from scipy.stats import linregress\n",
    "%matplotlib inline"
   ]
  },
  {
   "cell_type": "code",
   "execution_count": 4,
   "metadata": {},
   "outputs": [],
   "source": [
    "a  = 1\n",
    "p  = 1\n",
    "nx = 100"
   ]
  },
  {
   "cell_type": "code",
   "execution_count": 5,
   "metadata": {},
   "outputs": [
    {
     "name": "stdout",
     "output_type": "stream",
     "text": [
      "commute coeff :  1.0760596053877083e-11\n"
     ]
    }
   ],
   "source": [
    "# power subdunction\n",
    "def power(M,r) :\n",
    "    D,P = eigh(M)\n",
    "    D   = np.diag(D**r)\n",
    "    return P.dot(D).dot(np.transpose(P))\n",
    "# initialisation\n",
    "dx   = 1/nx\n",
    "# Matrice opérateur\n",
    "T   = dx*np.tri(nx)\n",
    "tTT = np.transpose(T).dot(T)\n",
    "D   = power(tTT,-p/2)\n",
    "tDD = np.transpose(D).dot(D)\n",
    "q   = 2*p+a\n",
    "R   = power(tTT,-q/2)"
   ]
  },
  {
   "cell_type": "code",
   "execution_count": 6,
   "metadata": {},
   "outputs": [],
   "source": [
    "# Matrice regularisation\n",
    "B   = 2*nx**2*np.diag(np.ones(nx)) \\\n",
    "      - nx**2*np.diag(np.ones(nx-1),1)\\\n",
    "      - nx**2*np.diag(np.ones(nx-1),-1)\n",
    "B[0,0]= nx**2"
   ]
  },
  {
   "cell_type": "code",
   "execution_count": 25,
   "metadata": {},
   "outputs": [
    {
     "data": {
      "text/plain": [
       "0.0022805586788999382"
      ]
     },
     "execution_count": 25,
     "metadata": {},
     "output_type": "execute_result"
    }
   ],
   "source": [
    "erreur = 1\n",
    "for _ in range(100):\n",
    "    t  = np.linspace(0,1-1/nx,nx)\n",
    "    v  = np.exp(-(t-0.5)**2/0.1**2)\n",
    "    M  = tDD.dot(tDD)\n",
    "    N  = tTT.dot(tTT)\n",
    "    er = np.linalg.norm(M.dot(N).dot(u) - N.dot(M).dot(u) )\n",
    "    if er<erreur:\n",
    "        erreur = er\n",
    "erreur"
   ]
  },
  {
   "cell_type": "code",
   "execution_count": null,
   "metadata": {},
   "outputs": [],
   "source": []
  }
 ],
 "metadata": {
  "kernelspec": {
   "display_name": "Python 3",
   "language": "python",
   "name": "python3"
  },
  "language_info": {
   "codemirror_mode": {
    "name": "ipython",
    "version": 3
   },
   "file_extension": ".py",
   "mimetype": "text/x-python",
   "name": "python",
   "nbconvert_exporter": "python",
   "pygments_lexer": "ipython3",
   "version": "3.9.1"
  }
 },
 "nbformat": 4,
 "nbformat_minor": 4
}
