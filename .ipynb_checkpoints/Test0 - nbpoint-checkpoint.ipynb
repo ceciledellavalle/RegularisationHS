{
 "cells": [
  {
   "cell_type": "code",
   "execution_count": 6,
   "metadata": {},
   "outputs": [],
   "source": [
    "import numpy as np\n",
    "import math\n",
    "import matplotlib.pyplot as plt\n",
    "from scipy.linalg import inv,pinvh,eig,eigh\n",
    "from scipy.stats import linregress\n",
    "%matplotlib inline"
   ]
  },
  {
   "cell_type": "code",
   "execution_count": 7,
   "metadata": {},
   "outputs": [],
   "source": [
    "def Slope(a=1,p=1,nx=100,npt=20):\n",
    "    # power subdunction\n",
    "    def power(M,r) :\n",
    "        D,P = eigh(M)\n",
    "        D   = np.diag(D**r)\n",
    "        return P.dot(D).dot(np.transpose(P))\n",
    "    # initialisation\n",
    "    dx   = 1/nx\n",
    "    # Matrice opérateur\n",
    "    T   = dx*np.tri(nx)\n",
    "    tTT = np.transpose(T).dot(T)\n",
    "    # Matrice regularisation\n",
    "#     B   = 2*nx**2*np.diag(np.ones(nx)) \\\n",
    "#           - nx**2*np.diag(np.ones(nx-1),1)\\\n",
    "#           - nx**2*np.diag(np.ones(nx-1),-1)\n",
    "#     B[0,0]= nx**2\n",
    "    D   = power(tTT,-p/2)\n",
    "    tDD = np.transpose(D).dot(D)\n",
    "    q   = 2*p+a\n",
    "    R   = power(tTT,-q/2)\n",
    "    # Synthetic Data\n",
    "    t  = np.linspace(0,1-1/nx,nx)\n",
    "    x  = np.exp(-(t-0.5)**2/0.1**2)\n",
    "    # x  = x/np.linalg.norm(x)\n",
    "    rho= np.linalg.norm(R.dot(x))\n",
    "    y  = T.dot(x)\n",
    "    # eps\n",
    "    eps   = np.logspace(-3,-1,npt)\n",
    "    delta = np.zeros(npt)\n",
    "    err   = np.zeros(npt)\n",
    "    # initialise error vector \n",
    "    no = np.random.randn(nx)\n",
    "    no = no*np.linalg.norm(y)/np.linalg.norm(no)\n",
    "    for i,l in enumerate(eps):\n",
    "        # step0 : initialisation\n",
    "        error_compare = 1000\n",
    "        # step1 : noisy data\n",
    "        yd = y + l*no\n",
    "        delta[i] = np.linalg.norm(yd-y)\n",
    "        # step 2 : optimal alpha\n",
    "        alpha_op = (delta[i]/rho)**(2*(a+p)/(a+q))\n",
    "        for alpha in np.linspace(alpha_op/20,alpha_op*10,1000*npt):\n",
    "            # step 3 : inversion\n",
    "            xd    = np.linalg.inv(tTT + alpha*tDD).dot(np.transpose(T).dot(yd))\n",
    "            # step 4 : error\n",
    "            error = np.linalg.norm(xd-x)\n",
    "            if error < error_compare:\n",
    "                error_compare = error\n",
    "                err[i]        = error\n",
    "                reg           = alpha\n",
    "    # plot\n",
    "    s,r,R,_,_ = linregress(np.log(delta), np.log(err))\n",
    "    plt.loglog(delta,err,'r+',label='error')\n",
    "    plt.loglog(delta,np.exp(r)*delta**s,label=\"%.3f\"%s)\n",
    "    plt.legend()\n",
    "    # stat\n",
    "    q = 2*p+a\n",
    "    print(\"th. smax =\", q/(a+q),\", s = %.2f\"%(s), \", R = %.5f\"%(R))\n",
    "    print(\"th. qmax = \",q ,\", q = %.2f\"%(s*a/(1-s)))\n",
    "    return s"
   ]
  },
  {
   "cell_type": "code",
   "execution_count": null,
   "metadata": {},
   "outputs": [
    {
     "name": "stdout",
     "output_type": "stream",
     "text": [
      "commute coeff :  1.0760596053877083e-11\n",
      "th. smax = 0.5238095238095238 , s = 1.00 , R = 1.00000\n",
      "th. qmax =  22 , q = -16015645901053.06\n",
      "commute coeff :  1.0760596053877083e-11\n"
     ]
    }
   ],
   "source": [
    "slope =[]\n",
    "for nxi in np.arange(20,200,10):\n",
    "    slope.append(Slope(nxi,npt=10))"
   ]
  },
  {
   "cell_type": "code",
   "execution_count": null,
   "metadata": {},
   "outputs": [],
   "source": []
  }
 ],
 "metadata": {
  "kernelspec": {
   "display_name": "Python 3",
   "language": "python",
   "name": "python3"
  },
  "language_info": {
   "codemirror_mode": {
    "name": "ipython",
    "version": 3
   },
   "file_extension": ".py",
   "mimetype": "text/x-python",
   "name": "python",
   "nbconvert_exporter": "python",
   "pygments_lexer": "ipython3",
   "version": "3.9.1"
  }
 },
 "nbformat": 4,
 "nbformat_minor": 4
}
