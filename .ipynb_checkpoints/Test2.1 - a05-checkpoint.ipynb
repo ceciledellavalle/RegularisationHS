{
 "cells": [
  {
   "cell_type": "code",
   "execution_count": 1,
   "metadata": {},
   "outputs": [],
   "source": [
    "#global import\n",
    "import numpy as np\n",
    "import math\n",
    "import matplotlib.pyplot as plt\n",
    "from scipy.linalg import inv,pinvh,eig,eigh\n",
    "from scipy.stats import linregress\n",
    "%matplotlib inline\n",
    "# local import\n",
    "from code.slope import Slope"
   ]
  },
  {
   "cell_type": "code",
   "execution_count": 28,
   "metadata": {},
   "outputs": [],
   "source": [
    "def MatrixGen(a=1,p=1,nx=100):\n",
    "    # power subdunction\n",
    "    def power(M,r) :\n",
    "        D,P = eigh(M)\n",
    "        D = np.diag(D**r)\n",
    "        return P.dot(D).dot(np.transpose(P))\n",
    "    # initialisation\n",
    "    dx   = 1/nx\n",
    "    # Matrice opérateur\n",
    "    T = np.zeros((nx,nx))\n",
    "    coeff = 1/(2*a)*nx**-a\n",
    "    for i in range(nx):\n",
    "        for j in range(nx):#lower half\n",
    "            if i<j:\n",
    "                T[i,j] = coeff*((j-i+1)**(a)\\\n",
    "                               -(j-i-1)**(a))\n",
    "            elif i==j:#diagonal\n",
    "                if i==0 :\n",
    "                    T[i,j] = 2*coeff\n",
    "                else:\n",
    "                    T[i,j] = coeff\n",
    "    T   = np.transpose(T)\n",
    "    tTT = np.transpose(T).dot(T)\n",
    "    # Matrice regularisation\n",
    "    D   = power(tTT,-p/(2*a))\n",
    "    tDD = np.transpose(D).dot(D)\n",
    "#     else:\n",
    "#         B   = 2*nx**2*np.diag(np.ones(nx)) \\\n",
    "#                   - nx**2*np.diag(np.ones(nx-1),1)\\\n",
    "#                   - nx**2*np.diag(np.ones(nx-1),-1)\n",
    "#         B[0,0]= nx**2\n",
    "#         D   = power(B,p/2)\n",
    "#         tDD = np.transpose(D).dot(D)\n",
    "    # Matrix norm\n",
    "    q   = 2*p+a\n",
    "    R   = power(D.dot(D),q/2)\n",
    "    return tTT, tDD"
   ]
  },
  {
   "cell_type": "code",
   "execution_count": 32,
   "metadata": {
    "scrolled": true
   },
   "outputs": [],
   "source": [
    "T,D = MatrixGen(a=2,p=2,nx=100)"
   ]
  },
  {
   "cell_type": "code",
   "execution_count": 34,
   "metadata": {},
   "outputs": [
    {
     "data": {
      "text/plain": [
       "<matplotlib.image.AxesImage at 0x7fcf901a81c0>"
      ]
     },
     "execution_count": 34,
     "metadata": {},
     "output_type": "execute_result"
    },
    {
     "data": {
      "image/png": "[encoded data removed]",
      "text/plain": [
       "<Figure size 432x288 with 1 Axes>"
      ]
     },
     "metadata": {
      "needs_background": "light"
     },
     "output_type": "display_data"
    }
   ],
   "source": [
    "plt.imshow(D.dot(T))"
   ]
  },
  {
   "cell_type": "code",
   "execution_count": null,
   "metadata": {},
   "outputs": [],
   "source": []
  }
 ],
 "metadata": {
  "kernelspec": {
   "display_name": "Python 3",
   "language": "python",
   "name": "python3"
  },
  "language_info": {
   "codemirror_mode": {
    "name": "ipython",
    "version": 3
   },
   "file_extension": ".py",
   "mimetype": "text/x-python",
   "name": "python",
   "nbconvert_exporter": "python",
   "pygments_lexer": "ipython3",
   "version": "3.9.1"
  }
 },
 "nbformat": 4,
 "nbformat_minor": 4
}
