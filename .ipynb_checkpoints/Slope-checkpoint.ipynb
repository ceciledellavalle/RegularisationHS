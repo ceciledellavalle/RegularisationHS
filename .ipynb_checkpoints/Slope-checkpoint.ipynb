{
 "cells": [
  {
   "cell_type": "code",
   "execution_count": 1,
   "metadata": {},
   "outputs": [],
   "source": [
    "import numpy as np\n",
    "import math\n",
    "import matplotlib.pyplot as plt\n",
    "from scipy.linalg import inv,pinvh,eig,eigh\n",
    "from scipy.stats import linregress\n",
    "%matplotlib inline"
   ]
  },
  {
   "cell_type": "code",
   "execution_count": 2,
   "metadata": {},
   "outputs": [],
   "source": [
    "# Parameters\n",
    "nx = 100 # signal size\n",
    "dx = 1/nx"
   ]
  },
  {
   "cell_type": "code",
   "execution_count": 3,
   "metadata": {},
   "outputs": [],
   "source": [
    "def Slope(a=1,p=1,nx=100,npt=15):\n",
    "    # power subdunction\n",
    "    def power(M,r) :\n",
    "        D,P = eigh(M)\n",
    "        D   = np.diag(D**r)\n",
    "        return P.dot(D).dot(np.transpose(P))\n",
    "    # initialisation\n",
    "    dx   = 1/nx\n",
    "    # Matrice opérateur\n",
    "    T1   = dx*np.tri(nx)\n",
    "    tTT1 = np.transpose(T1).dot(T1)\n",
    "    T    = power(tTT1,a/2)\n",
    "    tTT  = np.transpose(T).dot(T)\n",
    "    # Matrice regularisation\n",
    "    B   = 2*nx**2*np.diag(np.ones(nx)) \\\n",
    "          - nx**2*np.diag(np.ones(nx-1),1)\\\n",
    "          - nx**2*np.diag(np.ones(nx-1),-1)\n",
    "    B[0,0]= nx**2\n",
    "    D   = power(power(B,a),p/(2*a))\n",
    "    tDD = np.transpose(D).dot(D)\n",
    "    # Synthetic Data\n",
    "    t  = np.linspace(0,1,nx)\n",
    "    x  = np.exp(-(t-0.5)**2/0.1**2)\n",
    "    x  = x/np.linalg.norm(x)\n",
    "    rho= np.linalg.norm(D.dot(x))\n",
    "    y  = T.dot(x)\n",
    "    # eps\n",
    "    eps = np.logspace(-6,0,npt)\n",
    "    err = np.zeros(npt)\n",
    "    for i,l in enumerate(eps):\n",
    "        # step0 : initialisation\n",
    "        error_compare = 1000\n",
    "        # step1 : noisy data\n",
    "        no = np.random.randn(nx)\n",
    "        no = l*no*np.linalg.norm(y)/np.linalg.norm(no)\n",
    "        yd = y + no\n",
    "        # step 2 : optimal alpha\n",
    "        for alpha in np.logspace(-12,3,10*npt):\n",
    "            # step 3 : inversion\n",
    "            xd    = np.linalg.inv(tTT + alpha*tDD).dot(np.transpose(T).dot(yd))\n",
    "            xd[xd<0] = 0\n",
    "            # step 4 : error\n",
    "            error = np.linalg.norm(xd-x)\n",
    "            if error < error_compare:\n",
    "                error_compare = error\n",
    "                err[i]        = error\n",
    "    # plot\n",
    "    s,r,_,_,_ = linregress(np.log(eps), np.log(err))\n",
    "    plt.loglog(eps,err,'r+',label='error')\n",
    "    plt.loglog(eps,np.exp(r)*eps**s,label=\"%.3f\"%s)\n",
    "    plt.legend()"
   ]
  },
  {
   "cell_type": "markdown",
   "metadata": {},
   "source": [
    "# a=1"
   ]
  },
  {
   "cell_type": "code",
   "execution_count": 4,
   "metadata": {},
   "outputs": [
    {
     "name": "stdout",
     "output_type": "stream",
     "text": [
      "th. s = 0.8\n",
      "th. qmax =  4 , q = 2.08\n"
     ]
    },
    {
     "data": {
      "image/png": "[encoded data removed]",
      "text/plain": [
       "<Figure size 432x288 with 1 Axes>"
      ]
     },
     "metadata": {
      "needs_background": "light"
     },
     "output_type": "display_data"
    }
   ],
   "source": [
    "a = 1\n",
    "p = 1\n",
    "q = 2*(p+a)\n",
    "print(\"th. s =\", q/(a+q))\n",
    "print(\"th. qmax = \",2*(p+a) ,\", q = %.2f\"%(0.675*a/(1-0.675)))\n",
    "Slope(a,p,nx,npt=15)"
   ]
  },
  {
   "cell_type": "code",
   "execution_count": null,
   "metadata": {},
   "outputs": [
    {
     "name": "stdout",
     "output_type": "stream",
     "text": [
      "th. s = 0.8571428571428571\n",
      "th. qmax =  6 , q = 3.00\n"
     ]
    }
   ],
   "source": [
    "a = 1\n",
    "p = 2\n",
    "q = 2*(p+a)\n",
    "print(\"th. s =\", q/(a+q))\n",
    "print(\"th. qmax = \",2*(p+a) ,\", q = %.2f\"%(0.75*a/(1-0.75)))\n",
    "Slope(a,p,nx,npt=15)"
   ]
  },
  {
   "cell_type": "markdown",
   "metadata": {},
   "source": [
    "# a = 1/2"
   ]
  },
  {
   "cell_type": "code",
   "execution_count": null,
   "metadata": {},
   "outputs": [],
   "source": [
    "a = 1/2\n",
    "p = 1\n",
    "q = 2*(p+a)\n",
    "print(\"th. s = \", q/(a+q))\n",
    "print(\"th. qmax = \",2*(p+a) ,\", q = %.2f\"%(0.7*a/(1-0.7)))\n",
    "Slope(1/2,1,nx,npt=15)"
   ]
  },
  {
   "cell_type": "code",
   "execution_count": null,
   "metadata": {},
   "outputs": [],
   "source": [
    "a = 1/2\n",
    "p = 1/2\n",
    "q = 2*(p+a)\n",
    "print(\"th. s = \", q/(a+q))\n",
    "print(\"th. qmax = \",2*(p+a) ,\", q = %.2f\"%(0.8*a/(1-0.8)))\n",
    "Slope(1/2,1,nx,npt=15)"
   ]
  },
  {
   "cell_type": "code",
   "execution_count": null,
   "metadata": {},
   "outputs": [],
   "source": []
  }
 ],
 "metadata": {
  "kernelspec": {
   "display_name": "Python 3",
   "language": "python",
   "name": "python3"
  },
  "language_info": {
   "codemirror_mode": {
    "name": "ipython",
    "version": 3
   },
   "file_extension": ".py",
   "mimetype": "text/x-python",
   "name": "python",
   "nbconvert_exporter": "python",
   "pygments_lexer": "ipython3",
   "version": "3.9.1"
  }
 },
 "nbformat": 4,
 "nbformat_minor": 4
}
