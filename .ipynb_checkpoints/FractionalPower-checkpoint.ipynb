{
 "cells": [
  {
   "cell_type": "code",
   "execution_count": 1,
   "metadata": {},
   "outputs": [],
   "source": [
    "import numpy as np\n",
    "import math\n",
    "import matplotlib.pyplot as plt\n",
    "%matplotlib inline"
   ]
  },
  {
   "cell_type": "markdown",
   "metadata": {},
   "source": [
    "# Fractional power of Matrix"
   ]
  },
  {
   "cell_type": "code",
   "execution_count": 2,
   "metadata": {},
   "outputs": [],
   "source": [
    "def GetInterval(A,Ainv,beta,eps=10**-15):\n",
    "    normA  = np.linalg.norm(A)\n",
    "    normAi = np.linalg.norm(Ainv)\n",
    "    # compute a\n",
    "    c  = beta*math.pi\n",
    "    a1 = (c*(1+beta)*eps)/(4*math.sin(c)*(1+2*beta))\n",
    "    a2 = (2*normAi)**-beta\n",
    "    a  = min(a1,a2)\n",
    "    # compute b\n",
    "    d  = beta/(beta-1)\n",
    "    e  = (1-beta)*math.pi\n",
    "    b1 = (e*(2-beta)*eps)**d/(4*math.sin(c)*(3-2*beta)*normA)**d\n",
    "    b2 = (2*normA)**beta\n",
    "    b  = max(b1,b2)\n",
    "    # compute interval [l,r]\n",
    "    l = math.asinh(2*math.log(a)/c)\n",
    "    r = math.asinh(2*math.log(b)/c)\n",
    "    return l, r"
   ]
  },
  {
   "cell_type": "code",
   "execution_count": 46,
   "metadata": {},
   "outputs": [],
   "source": [
    "def FDE(x,A,beta):\n",
    "    nx     = A.shape[0]\n",
    "    try:\n",
    "        f0  = math.exp((beta-1)*math.pi*math.sinh(x)/2)\n",
    "    except OverflowError:\n",
    "        f0  = float('inf')\n",
    "    try:\n",
    "        f1  = math.exp(math.pi*math.sinh(x)/2)\n",
    "    except OverflowError:\n",
    "        f1  = float('inf')\n",
    "    try:\n",
    "        f2 = math.cosh(x)\n",
    "    except OverflowError:\n",
    "        f2 = float('inf')\n",
    "    M      = f0*f2*np.linalg.inv(np.eye(nx)+1/f1*A)\n",
    "    return M"
   ]
  },
  {
   "cell_type": "code",
   "execution_count": 65,
   "metadata": {},
   "outputs": [],
   "source": [
    "def Adaptative_Quad_DE(A,Ainv,beta,eps=10**-5,niter=5):\n",
    "    l,r = GetInterval(A,Ainv,beta,eps)\n",
    "    m   = 8\n",
    "    h   = (r-l)/(m-1)\n",
    "    g   = math.sin(beta*math.pi)/2\n",
    "    # compute T\n",
    "    T   = h*(FDE(l,A,beta)+FDE(r,A,beta))/2\n",
    "    for k in range(1,m-1):\n",
    "        T += h*FDE(l+k*h,A,beta)\n",
    "    Told = T.copy() \n",
    "    # compute quadrature\n",
    "    for s in range(niter):\n",
    "        h = h/2\n",
    "        T = T/2\n",
    "        for k in range(1,m-1):\n",
    "            T += h*FDE(l+(2*k-1)*h,A,beta)\n",
    "        m = 2*m-1\n",
    "        # test if precision is obtained\n",
    "        err = g*np.linalg.norm(A.dot(T)-A.dot(Told))\n",
    "        if abs(err)<eps/2:\n",
    "            return g*A.dot(T)\n",
    "        Told = T.copy()\n",
    "    # return\n",
    "    return g*A.dot(T)  "
   ]
  },
  {
   "cell_type": "code",
   "execution_count": 66,
   "metadata": {},
   "outputs": [],
   "source": [
    "nx = 10 # signal size\n",
    "dx = 1/nx\n",
    "# B et B^-1 = tTT\n",
    "T = dx*np.tri(nx)\n",
    "tTT = T.transpose().dot(T)\n",
    "B = 2*dx**-2*np.diag(np.ones(nx))\\\n",
    "    - dx**-2*np.diag(np.ones(nx-1),1)\\\n",
    "    - dx**-2*np.diag(np.ones(nx-1),-1)\n",
    "B[0,0]= dx**-2"
   ]
  },
  {
   "cell_type": "markdown",
   "metadata": {},
   "source": [
    "### Test pour la fonction identité"
   ]
  },
  {
   "cell_type": "code",
   "execution_count": 67,
   "metadata": {},
   "outputs": [
    {
     "data": {
      "text/plain": [
       "(-3.480040298887228, 3.5664355902013343)"
      ]
     },
     "execution_count": 67,
     "metadata": {},
     "output_type": "execute_result"
    }
   ],
   "source": [
    "# test 1\n",
    "GetInterval(np.eye(nx),np.eye(nx),0.5,eps=10**-5)"
   ]
  },
  {
   "cell_type": "code",
   "execution_count": 68,
   "metadata": {},
   "outputs": [],
   "source": [
    "beta = 0.5\n",
    "D = Adaptative_Quad_DE(np.eye(nx),np.eye(nx),beta,niter=10)"
   ]
  },
  {
   "cell_type": "code",
   "execution_count": 69,
   "metadata": {},
   "outputs": [
    {
     "data": {
      "text/plain": [
       "<matplotlib.image.AxesImage at 0x7f963b573ca0>"
      ]
     },
     "execution_count": 69,
     "metadata": {},
     "output_type": "execute_result"
    },
    {
     "data": {
      "image/png": "[encoded data removed]",
      "text/plain": [
       "<Figure size 432x288 with 1 Axes>"
      ]
     },
     "metadata": {
      "needs_background": "light"
     },
     "output_type": "display_data"
    }
   ],
   "source": [
    "plt.imshow(D)"
   ]
  },
  {
   "cell_type": "code",
   "execution_count": 70,
   "metadata": {},
   "outputs": [
    {
     "data": {
      "text/plain": [
       "7.84646106144482e-06"
      ]
     },
     "execution_count": 70,
     "metadata": {},
     "output_type": "execute_result"
    }
   ],
   "source": [
    "np.linalg.norm(D.dot(D)-np.eye(nx))/np.linalg.norm(np.eye(nx))"
   ]
  },
  {
   "cell_type": "markdown",
   "metadata": {},
   "source": [
    "### Test pour B"
   ]
  },
  {
   "cell_type": "code",
   "execution_count": 71,
   "metadata": {},
   "outputs": [],
   "source": [
    "beta = 0.5\n",
    "D = Adaptative_Quad_DE(B,tTT,beta,eps=10**-10,niter=15)"
   ]
  },
  {
   "cell_type": "code",
   "execution_count": 72,
   "metadata": {},
   "outputs": [
    {
     "data": {
      "text/plain": [
       "7.110089343062969e-10"
      ]
     },
     "execution_count": 72,
     "metadata": {},
     "output_type": "execute_result"
    }
   ],
   "source": [
    "np.linalg.norm(D.dot(D)-B)/np.linalg.norm(B)"
   ]
  },
  {
   "cell_type": "code",
   "execution_count": null,
   "metadata": {},
   "outputs": [],
   "source": []
  },
  {
   "cell_type": "code",
   "execution_count": null,
   "metadata": {},
   "outputs": [],
   "source": []
  },
  {
   "cell_type": "code",
   "execution_count": null,
   "metadata": {},
   "outputs": [],
   "source": []
  }
 ],
 "metadata": {
  "kernelspec": {
   "display_name": "Python 3",
   "language": "python",
   "name": "python3"
  },
  "language_info": {
   "codemirror_mode": {
    "name": "ipython",
    "version": 3
   },
   "file_extension": ".py",
   "mimetype": "text/x-python",
   "name": "python",
   "nbconvert_exporter": "python",
   "pygments_lexer": "ipython3",
   "version": "3.9.1"
  }
 },
 "nbformat": 4,
 "nbformat_minor": 4
}
